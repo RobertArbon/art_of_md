{
  "nbformat": 4,
  "nbformat_minor": 0,
  "metadata": {
    "colab": {
      "name": "Untitled",
      "provenance": [],
      "authorship_tag": "ABX9TyOpjuJJcJKn4/J9pS26Oi9J",
      "include_colab_link": true
    },
    "kernelspec": {
      "name": "python3",
      "display_name": "Python 3"
    }
  },
  "cells": [
    {
      "cell_type": "markdown",
      "metadata": {
        "id": "view-in-github",
        "colab_type": "text"
      },
      "source": [
        "<a href=\"https://colab.research.google.com/github/RobertArbon/art_of_md/blob/master/Overview.ipynb\" target=\"_parent\"><img src=\"https://colab.research.google.com/assets/colab-badge.svg\" alt=\"Open In Colab\"/></a>"
      ]
    },
    {
      "cell_type": "code",
      "metadata": {
        "id": "_kDPv9QL_M2w",
        "colab_type": "code",
        "colab": {}
      },
      "source": [
        ""
      ],
      "execution_count": 0,
      "outputs": []
    },
    {
      "cell_type": "markdown",
      "metadata": {
        "id": "sPzU2-y0AhWT",
        "colab_type": "text"
      },
      "source": [
        "# Introduction\n",
        "\n",
        "In 2016 Leon Gatys, working in the Bethge lab in Tubingen, Germany, published [Image Style Transfer with convolutional neural networks](http://openaccess.thecvf.com/content_cvpr_2016/html/Gatys_Image_Style_Transfer_CVPR_2016_paper.html). In this paper he put forth  `A Neural Algorithm of Artistic Style` which used a neural network, pre-trained for image recognition, to create a new image using the style from a one image and applied it to the content of a different image. The images below appearred in the original paper (Fig. 3 above) and are linked from [DeepArt.io](https://deepart.io/) (the company he founded): \n",
        "\n",
        "### content image: \n",
        "\n",
        "![content](https://deepart-io.s3.amazonaws.com/img/content.jpg)\n",
        "\n",
        "### style image: \n",
        "![style](https://deepart-io.s3.amazonaws.com/img/style.jpg)\n",
        "\n",
        "### new image: \n",
        "![stylexfer](https://deepart-io.s3.amazonaws.com/img/result.jpg)\n",
        "\n",
        "\n",
        "There have also been attempts to use style transfer in animations and videos. A nice [blog post](https://medium.com/element-ai-research-lab/stabilizing-neural-style-transfer-for-video-62675e203e42) from [Element AI](https://www.elementai.com/news) which shows some of the difficulties \n",
        "\n",
        "\n"
      ]
    },
    {
      "cell_type": "markdown",
      "metadata": {
        "id": "J3UJQDMXGO8q",
        "colab_type": "text"
      },
      "source": [
        "## Lucid: \n",
        "Standard implementation using Lucid (package from Google): \n",
        "\n",
        "[Lucid Style Transfer](https://colab.research.google.com/github/tensorflow/lucid/blob/master/notebooks/differentiable-parameterizations/style_transfer_2d.ipynb#scrollTo=5nno2iRZXJbX)"
      ]
    },
    {
      "cell_type": "markdown",
      "metadata": {
        "id": "OvMH6PgwIOZr",
        "colab_type": "text"
      },
      "source": [
        "## Ghiasi et. al. (2017) \n",
        "\n",
        "[Exploring the structure of a real-time, arbitrary neural artistic stylization network](https://colab.research.google.com/github/tensorflow/hub/blob/master/examples/colab/tf2_arbitrary_image_stylization.ipynb#scrollTo=oXlcl8lqBgAD)\n",
        "\n"
      ]
    },
    {
      "cell_type": "code",
      "metadata": {
        "id": "SeYWxfjQILKl",
        "colab_type": "code",
        "colab": {}
      },
      "source": [
        ""
      ],
      "execution_count": 0,
      "outputs": []
    }
  ]
}